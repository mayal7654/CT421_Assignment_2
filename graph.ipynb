{
 "cells": [
  {
   "cell_type": "code",
   "execution_count": null,
   "metadata": {},
   "outputs": [],
   "source": [
    "import networkx as nx\n",
    "import random\n",
    "import matplotlib.pyplot as plt"
   ]
  },
  {
   "cell_type": "markdown",
   "metadata": {},
   "source": [
    "### Part One\n",
    "- Defining a network topology\n",
    "- Randomly assigning colours to each node \n",
    "- Running experiments to see if correct colouring of the graph can be reached.\n",
    "- Counting the number of conflicts over time"
   ]
  },
  {
   "cell_type": "code",
   "execution_count": null,
   "metadata": {},
   "outputs": [],
   "source": [
    "n = 60\n",
    "k = 4\n",
    "p = 0.7\n",
    "\n",
    "G = nx.random_graphs.connected_watts_strogatz_graph(n, k, p)\n"
   ]
  },
  {
   "cell_type": "code",
   "execution_count": null,
   "metadata": {},
   "outputs": [],
   "source": [
    "nx.draw(G)"
   ]
  },
  {
   "cell_type": "code",
   "execution_count": null,
   "metadata": {},
   "outputs": [],
   "source": [
    "A = nx.adjacency_matrix(G)\n",
    "print(A.todense())"
   ]
  },
  {
   "cell_type": "code",
   "execution_count": null,
   "metadata": {},
   "outputs": [],
   "source": [
    "collisions_c = []\n",
    "\n",
    "colours = []\n",
    "\n",
    "for i in range(3, 12):\n",
    "    colours.append({'num': i, 'max_collisions': 0, 'min_collisions': 50})\n",
    "\n",
    "def check_colouring(G, num_colours, collision, max_collisions, min_collisions):\n",
    "    for node in G:\n",
    "        for n in G.neighbors(node):\n",
    "            if G.nodes[node]['colour'] == G.nodes[n]['colour'] and node > n:\n",
    "                G.nodes[node]['colour'] = random.randint(0, num_colours-1)\n",
    "                collision = collision + 1\n",
    "\n",
    "\n",
    "    if collision > max_collisions:\n",
    "        max_collisions = collision\n",
    "\n",
    "    if collision < min_collisions:\n",
    "        min_collisions = collision\n",
    "    \n",
    "    return collision, max_collisions, min_collisions\n",
    "\n",
    "for i in range(len(colours)):\n",
    "    collisions_c.append([])\n",
    "    for j in range(G.order()):        \n",
    "        G.nodes[j]['colour'] = random.randint(0, colours[i]['num']-1)\n",
    "    for j in range(10):\n",
    "        collisions_c[i].append(0)\n",
    "        collisions_c[i][j], colours[i]['max_collisions'], colours[i]['min_collisions'] = check_colouring(G, colours[i]['num'], collisions_c[i][j], colours[i]['max_collisions'], colours[i]['min_collisions'])\n",
    "    print(f\"Collisions over time for {colours[i]['num']} colours: {collisions_c[i]}\")\n",
    "    print(f\"Max collisions: {colours[i]['max_collisions']} for number of colours: {colours[i]['num']}\")\n",
    "    print(f\"Min collisions: {colours[i]['min_collisions']} for number of colours: {colours[i]['num']}\")\n"
   ]
  },
  {
   "cell_type": "code",
   "execution_count": null,
   "metadata": {},
   "outputs": [],
   "source": [
    "import csv\n",
    "\n",
    "with open('collisions.csv', mode='w', newline='') as file:\n",
    "    writer = csv.writer(file, delimiter=',', quotechar='\"', quoting=csv.QUOTE_MINIMAL)\n",
    "    writer.writerow(['Number of colours', 'Collisions over time', 'Max collisions', 'Min collisions'])\n",
    "    for i in range(len(colours)):\n",
    "        writer.writerow([colours[i]['num'], collisions_c[i], colours[i]['max_collisions'], colours[i]['min_collisions']])"
   ]
  }
 ],
 "metadata": {
  "kernelspec": {
   "display_name": "Python 3",
   "language": "python",
   "name": "python3"
  },
  "language_info": {
   "codemirror_mode": {
    "name": "ipython",
    "version": 3
   },
   "file_extension": ".py",
   "mimetype": "text/x-python",
   "name": "python",
   "nbconvert_exporter": "python",
   "pygments_lexer": "ipython3",
   "version": "3.10.6"
  }
 },
 "nbformat": 4,
 "nbformat_minor": 2
}
