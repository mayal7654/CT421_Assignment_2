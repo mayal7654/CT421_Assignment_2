{
 "cells": [
  {
   "cell_type": "code",
   "execution_count": null,
   "metadata": {},
   "outputs": [],
   "source": [
    "import networkx as nx\n",
    "import random\n",
    "import matplotlib.pyplot as plt"
   ]
  },
  {
   "cell_type": "markdown",
   "metadata": {},
   "source": [
    "### Part One\n",
    "- Defining a network topology\n",
    "- Randomly assigning colours to each node \n",
    "- Running experiments to see if correct colouring of the graph can be reached.\n",
    "- Counting the number of conflicts over time"
   ]
  },
  {
   "cell_type": "code",
   "execution_count": null,
   "metadata": {},
   "outputs": [],
   "source": [
    "n = 60\n",
    "k = 32\n",
    "p = 0.7\n",
    "\n",
    "G = nx.random_graphs.connected_watts_strogatz_graph(n, k, p)\n"
   ]
  },
  {
   "cell_type": "code",
   "execution_count": null,
   "metadata": {},
   "outputs": [],
   "source": [
    "nx.draw(G)"
   ]
  },
  {
   "cell_type": "code",
   "execution_count": null,
   "metadata": {},
   "outputs": [],
   "source": [
    "A = nx.adjacency_matrix(G)\n",
    "print(A.todense())"
   ]
  },
  {
   "cell_type": "code",
   "execution_count": null,
   "metadata": {},
   "outputs": [],
   "source": [
    "def random_colouring(G, colours):\n",
    "    for n in G:\n",
    "        G.nodes[n][\"colour\"] = random.randrange(0, colours)"
   ]
  },
  {
   "cell_type": "code",
   "execution_count": null,
   "metadata": {},
   "outputs": [],
   "source": [
    "collisions_c = []\n",
    "\n",
    "colours = []\n",
    "\n",
    "for i in range(3, 12):\n",
    "    colours.append({'num': i, 'max_collisions': 0, 'min_collisions': 50})\n",
    "\n",
    "def check_colouring(G, num_colours, collision, max_collisions, min_collisions):\n",
    "    for node in G:\n",
    "        for n in G.neighbors(node):\n",
    "            if G.nodes[node]['colour'] == G.nodes[n]['colour'] and node > n:\n",
    "                G.nodes[node]['colour'] = random.randint(0, num_colours-1)\n",
    "                collision = collision + 1\n",
    "\n",
    "\n",
    "    if collision > max_collisions:\n",
    "        max_collisions = collision\n",
    "\n",
    "    if collision < min_collisions:\n",
    "        min_collisions = collision\n",
    "    \n",
    "    return collision, max_collisions, min_collisions\n",
    "\n",
    "for i in range(len(colours)):\n",
    "    collisions_c.append([])\n",
    "    random_colouring(G, colours[i]['num'])\n",
    "    for j in range(10):\n",
    "        collisions_c[i].append(0)\n",
    "        collisions_c[i][j], colours[i]['max_collisions'], colours[i]['min_collisions'] = check_colouring(G, colours[i]['num'], collisions_c[i][j], colours[i]['max_collisions'], colours[i]['min_collisions'])\n",
    "    print(f\"Collisions over time for {colours[i]['num']} colours: {collisions_c[i]}\")\n",
    "    print(f\"Max collisions: {colours[i]['max_collisions']} for number of colours: {colours[i]['num']}\")\n",
    "    print(f\"Min collisions: {colours[i]['min_collisions']} for number of colours: {colours[i]['num']}\")\n"
   ]
  },
  {
   "cell_type": "code",
   "execution_count": null,
   "metadata": {},
   "outputs": [],
   "source": [
    "import csv\n",
    "\n",
    "with open('collisions.csv', mode='w', newline='') as file:\n",
    "    writer = csv.writer(file, delimiter=',', quotechar='\"', quoting=csv.QUOTE_MINIMAL)\n",
    "    writer.writerow(['Number of colours', 'Collisions over time', 'Max collisions', 'Min collisions'])\n",
    "    for i in range(len(colours)):\n",
    "        writer.writerow([colours[i]['num'], collisions_c[i], colours[i]['max_collisions'], colours[i]['min_collisions']])"
   ]
  },
  {
   "cell_type": "markdown",
   "metadata": {},
   "source": [
    "### Part Two"
   ]
  },
  {
   "cell_type": "code",
   "execution_count": null,
   "metadata": {},
   "outputs": [],
   "source": [
    "# Produce correct colouring by removing edges from the graph\n",
    "# - find nodes \"in conflict\"\n",
    "# - remove the edge\n",
    "\n",
    "pruned_graph = G.copy()\n",
    "\n",
    "# Recolour a graph with a number of colours\n",
    "# Prune edges that cause unresolvable collisions\n",
    "def prune_graph(G, colours):\n",
    "    # Sort the nodes based on degree; low degree nodes can be recoloured easily\n",
    "    nodes = sorted(list(G), key=lambda x: G.degree[x], reverse=True)\n",
    "    #nodes = list(G)\n",
    "    print(nodes)\n",
    "    # Iterate through nodes in the graph\n",
    "    for n in nodes:\n",
    "        # Set conflicts to empty, set all colours to available\n",
    "        conflicts = []\n",
    "        c_available = dict([(c, True) for c in list(range(colours))])\n",
    "        # Iterate through node's neighbours\n",
    "        for m in G.neighbors(n):\n",
    "            # Mark neighbour colour as unavailable; append to conflicts if it shares current node colour\n",
    "            c_available[G.nodes[m][\"colour\"]] = False\n",
    "            if G.nodes[n][\"colour\"] == G.nodes[m][\"colour\"]:\n",
    "                conflicts.append((n, m))\n",
    "        # Resolve existing conflicts\n",
    "        if conflicts != []:\n",
    "            solved = False\n",
    "            # Attempt to recolour\n",
    "            for c in c_available:\n",
    "                if c_available[c]:\n",
    "                    G.nodes[n][\"colour\"] = c\n",
    "                    solved = True\n",
    "            # Remove conflicting edges if recolour is not possible\n",
    "            if not solved:\n",
    "                G.remove_edges_from(conflicts)\n",
    "\n",
    "c = 2\n",
    "random_colouring(pruned_graph, c)\n",
    "\n",
    "s_pre_p = pruned_graph.size()\n",
    "d_pre_p = nx.diameter(pruned_graph)\n",
    "print(f\"Before Pruning:\\n\\tSize:\\t\\t{s_pre_p}\\n\\tDiameter:\\t{d_pre_p}\")\n",
    "prune_graph(pruned_graph, c)\n",
    "s_post_p = pruned_graph.size()\n",
    "d_post_p = nx.diameter(pruned_graph)\n",
    "print(f\"After Pruning:\\n\\tSize:\\t\\t{s_post_p}\\n\\tDiameter:\\t{d_post_p}\")\n",
    "print(f\"Graph is {float(s_post_p) / float(s_pre_p) * 100}% of its original size\\nDiameter increased by {((float(d_post_p) / float(d_pre_p)) - 1) * 100}%\")\n",
    "pos = nx.bipartite_layout(pruned_graph, [n for n in pruned_graph if pruned_graph.nodes[n][\"colour\"] == 0])\n",
    "nx.draw(pruned_graph, node_color=[pruned_graph.nodes[n][\"colour\"] for n in pruned_graph], pos=pos, node_size=10)"
   ]
  },
  {
   "cell_type": "code",
   "execution_count": null,
   "metadata": {},
   "outputs": [],
   "source": []
  }
 ],
 "metadata": {
  "kernelspec": {
   "display_name": "Python 3 (ipykernel)",
   "language": "python",
   "name": "python3"
  },
  "language_info": {
   "codemirror_mode": {
    "name": "ipython",
    "version": 3
   },
   "file_extension": ".py",
   "mimetype": "text/x-python",
   "name": "python",
   "nbconvert_exporter": "python",
   "pygments_lexer": "ipython3",
   "version": "3.11.5"
  }
 },
 "nbformat": 4,
 "nbformat_minor": 4
}
